{
  "nbformat": 4,
  "nbformat_minor": 0,
  "metadata": {
    "colab": {
      "name": "CSV_to_Submitfile.ipynb",
      "provenance": [],
      "collapsed_sections": []
    },
    "kernelspec": {
      "name": "python3",
      "display_name": "Python 3"
    }
  },
  "cells": [
    {
      "cell_type": "code",
      "metadata": {
        "id": "PLiJbXilsfPF",
        "colab_type": "code",
        "colab": {}
      },
      "source": [
        "#Ultra96で作ったcsvファイルを提出用JSONへと変換\n",
        "\n",
        "import os\n",
        "import numpy as np\n",
        "import json\n",
        "import shutil\n",
        "import csv\n",
        "import collections as cl\n",
        "\n"
      ],
      "execution_count": 0,
      "outputs": []
    },
    {
      "cell_type": "code",
      "metadata": {
        "id": "iVyiE60-6BV3",
        "colab_type": "code",
        "colab": {}
      },
      "source": [
        "import zipfile\n",
        "with zipfile.ZipFile('/content/outdata.zip') as zf:\n",
        "  zf.extractall('/content/')"
      ],
      "execution_count": 0,
      "outputs": []
    },
    {
      "cell_type": "code",
      "metadata": {
        "id": "XAqjplNTszdt",
        "colab_type": "code",
        "colab": {}
      },
      "source": [
        "category_label = [\"Pedestrian\", \"Car\", \"Truck\", \"Signs\", \"Signal\", \"Bicycle\"]\n",
        "\n",
        "#・乗用車（Car）\n",
        "#・トラック（Truck）\n",
        "#・歩行者（Pedestrian）\n",
        "#・自転車（Bicycle）\n",
        "#・信号（Signal）\n",
        "#・標識（Signs）"
      ],
      "execution_count": 0,
      "outputs": []
    },
    {
      "cell_type": "code",
      "metadata": {
        "id": "GgmUStHjs6n0",
        "colab_type": "code",
        "colab": {}
      },
      "source": [
        "#tesut_result_dir = '/content/drive/My Drive/Ultra96/outdata'\n",
        "\n",
        "tesut_result_dir = '/content/outdata'\n"
      ],
      "execution_count": 0,
      "outputs": []
    },
    {
      "cell_type": "code",
      "metadata": {
        "id": "jZou77mOuArn",
        "colab_type": "code",
        "colab": {}
      },
      "source": [
        "\n",
        "tesut_result_files = os.listdir(tesut_result_dir)"
      ],
      "execution_count": 0,
      "outputs": []
    },
    {
      "cell_type": "code",
      "metadata": {
        "id": "WgiuZonjtjMm",
        "colab_type": "code",
        "colab": {}
      },
      "source": [
        "per_category = {}\n",
        "ys = cl.OrderedDict()\n",
        "\n",
        "for tesut_result_file in tesut_result_files:\n",
        "  image_objects = []\n",
        "  json_output_data = cl.OrderedDict()\n",
        "  label_data = list()\n",
        "  for j in range(6):\n",
        "      label_data.append([])\n",
        "  for i in range(6):\n",
        "    per_category[i] = []\n",
        "  #とりあえず全てセットする\n",
        "  #そもそも並び変わっているのでそのまま使える\n",
        "  with open(os.path.join(tesut_result_dir, tesut_result_file)) as f:\n",
        "    image_check_flg = []\n",
        "    csv_file_data = []\n",
        "\n",
        "    image_filename = tesut_result_file[0:9] + '.jpg'\n",
        "    print(image_filename)\n",
        "    result_csv = csv.reader(f)\n",
        "    for row in result_csv:\n",
        "      csv_file_data.append(row)\n",
        "      image_check_flg.append(0)\n",
        "    for row_i in csv_file_data:\n",
        "       max_coordinates = 0.0\n",
        "       tmp_j = 0\n",
        "       j = 0\n",
        "       for row_j in csv_file_data:     \n",
        "          if image_check_flg[j] == 0:\n",
        "            if max_coordinates < float(row_j[1]):\n",
        "              max_coordinates = float(row_j[1])\n",
        "              tmp_j = j\n",
        "              tmp_row = row_j\n",
        "          j = j + 1\n",
        "       per_category[int(tmp_row[0])].append(tmp_row)\n",
        "       image_check_flg[tmp_j] = 1\n",
        "    for i in range(6):\n",
        "      #print(per_category[i])\n",
        "      for tmp_category in per_category[i]:\n",
        "        tmp_data = [int(tmp_category[2]),int(tmp_category[3]),int(tmp_category[4]),int(tmp_category[5])]\n",
        "        label_data[i].append(tmp_data)\n",
        "      if len(label_data[i]) > 0:\n",
        "        json_output_data[category_label[i]] = label_data[i]\n",
        "  ys[image_filename] = json_output_data\n",
        "with open('output_json.json', 'w') as f_output:\n",
        "    json.dump(ys, f_output)\n",
        "\n",
        "\n",
        "     #image_objects.append(row)\n",
        "     #print(image_objects[2][1])"
      ],
      "execution_count": 0,
      "outputs": []
    },
    {
      "cell_type": "code",
      "metadata": {
        "id": "u9ewdkEPtwHM",
        "colab_type": "code",
        "colab": {}
      },
      "source": [
        ""
      ],
      "execution_count": 0,
      "outputs": []
    }
  ]
}